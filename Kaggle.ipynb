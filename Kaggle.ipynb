{
 "cells": [
  {
   "cell_type": "code",
   "execution_count": 88,
   "id": "85c90c61",
   "metadata": {},
   "outputs": [],
   "source": [
    "import pandas as pd\n",
    "df = pd.read_csv(r\"D:\\data_set_for_deepLearning\\wtbdata_245days.csv\") #,header = None,nrows = 5\n",
    "\n",
    "#change time to float\n",
    "def time_of_day(x):\n",
    "    return (int(x[:2])+int(x[3:])/60)\n",
    "df[\"Tmstamp\"]=df[\"Tmstamp\"].astype(str).apply(time_of_day,2) \n",
    "\n",
    "#Sum_2days_Patv\n",
    "df['Sum_2days_Patv'] = df['Patv'].cumsum()\n",
    "df['Sum_2days_Patv']=df['Sum_2days_Patv'][288:].reset_index(drop=True)-df['Sum_2days_Patv'][:-288].reset_index(drop=True)"
   ]
  },
  {
   "cell_type": "code",
   "execution_count": 89,
   "id": "9aeddcbe",
   "metadata": {},
   "outputs": [
    {
     "name": "stdout",
     "output_type": "stream",
     "text": [
      "正在划分数据集\n"
     ]
    }
   ],
   "source": [
    "import numpy as np\n",
    "from sklearn.model_selection import train_test_split\n",
    "print(\"正在划分数据集\")\n",
    "df=df.iloc[1:,:] #第一行很多NAN\n",
    "df=df.iloc[:-288,:]#去除最后的尾巴NAN\n",
    "y=df['Sum_2days_Patv']\n",
    "X=df.iloc[:,:-1]\n",
    "\n",
    "train_X,test_X,train_y,test_y = train_test_split(X,y,test_size=0.3,random_state=17)"
   ]
  },
  {
   "cell_type": "code",
   "execution_count": 90,
   "id": "a37348a3",
   "metadata": {},
   "outputs": [
    {
     "data": {
      "text/html": [
       "<div>\n",
       "<style scoped>\n",
       "    .dataframe tbody tr th:only-of-type {\n",
       "        vertical-align: middle;\n",
       "    }\n",
       "\n",
       "    .dataframe tbody tr th {\n",
       "        vertical-align: top;\n",
       "    }\n",
       "\n",
       "    .dataframe thead th {\n",
       "        text-align: right;\n",
       "    }\n",
       "</style>\n",
       "<table border=\"1\" class=\"dataframe\">\n",
       "  <thead>\n",
       "    <tr style=\"text-align: right;\">\n",
       "      <th></th>\n",
       "      <th>TurbID</th>\n",
       "      <th>Day</th>\n",
       "      <th>Tmstamp</th>\n",
       "      <th>Wspd</th>\n",
       "      <th>Wdir</th>\n",
       "      <th>Etmp</th>\n",
       "      <th>Itmp</th>\n",
       "      <th>Ndir</th>\n",
       "      <th>Pab1</th>\n",
       "      <th>Pab2</th>\n",
       "      <th>Pab3</th>\n",
       "      <th>Prtv</th>\n",
       "      <th>Patv</th>\n",
       "      <th>Sum_2days_Patv</th>\n",
       "    </tr>\n",
       "  </thead>\n",
       "  <tbody>\n",
       "    <tr>\n",
       "      <th>1</th>\n",
       "      <td>1</td>\n",
       "      <td>1</td>\n",
       "      <td>0.166667</td>\n",
       "      <td>6.17</td>\n",
       "      <td>-3.99</td>\n",
       "      <td>30.73</td>\n",
       "      <td>41.80</td>\n",
       "      <td>25.92</td>\n",
       "      <td>1.00</td>\n",
       "      <td>1.00</td>\n",
       "      <td>1.00</td>\n",
       "      <td>-0.25</td>\n",
       "      <td>494.66</td>\n",
       "      <td>198862.920000</td>\n",
       "    </tr>\n",
       "    <tr>\n",
       "      <th>2</th>\n",
       "      <td>1</td>\n",
       "      <td>1</td>\n",
       "      <td>0.333333</td>\n",
       "      <td>6.27</td>\n",
       "      <td>-2.18</td>\n",
       "      <td>30.60</td>\n",
       "      <td>41.63</td>\n",
       "      <td>20.91</td>\n",
       "      <td>1.00</td>\n",
       "      <td>1.00</td>\n",
       "      <td>1.00</td>\n",
       "      <td>-0.24</td>\n",
       "      <td>509.76</td>\n",
       "      <td>199852.170000</td>\n",
       "    </tr>\n",
       "    <tr>\n",
       "      <th>3</th>\n",
       "      <td>1</td>\n",
       "      <td>1</td>\n",
       "      <td>0.500000</td>\n",
       "      <td>6.42</td>\n",
       "      <td>-0.73</td>\n",
       "      <td>30.52</td>\n",
       "      <td>41.52</td>\n",
       "      <td>20.91</td>\n",
       "      <td>1.00</td>\n",
       "      <td>1.00</td>\n",
       "      <td>1.00</td>\n",
       "      <td>-0.26</td>\n",
       "      <td>542.53</td>\n",
       "      <td>200853.280000</td>\n",
       "    </tr>\n",
       "    <tr>\n",
       "      <th>4</th>\n",
       "      <td>1</td>\n",
       "      <td>1</td>\n",
       "      <td>0.666667</td>\n",
       "      <td>6.25</td>\n",
       "      <td>0.89</td>\n",
       "      <td>30.49</td>\n",
       "      <td>41.38</td>\n",
       "      <td>20.91</td>\n",
       "      <td>1.00</td>\n",
       "      <td>1.00</td>\n",
       "      <td>1.00</td>\n",
       "      <td>-0.23</td>\n",
       "      <td>509.36</td>\n",
       "      <td>201848.150000</td>\n",
       "    </tr>\n",
       "    <tr>\n",
       "      <th>5</th>\n",
       "      <td>1</td>\n",
       "      <td>1</td>\n",
       "      <td>0.833333</td>\n",
       "      <td>6.10</td>\n",
       "      <td>-1.03</td>\n",
       "      <td>30.47</td>\n",
       "      <td>41.22</td>\n",
       "      <td>20.91</td>\n",
       "      <td>1.00</td>\n",
       "      <td>1.00</td>\n",
       "      <td>1.00</td>\n",
       "      <td>-0.27</td>\n",
       "      <td>482.21</td>\n",
       "      <td>202866.390000</td>\n",
       "    </tr>\n",
       "    <tr>\n",
       "      <th>...</th>\n",
       "      <td>...</td>\n",
       "      <td>...</td>\n",
       "      <td>...</td>\n",
       "      <td>...</td>\n",
       "      <td>...</td>\n",
       "      <td>...</td>\n",
       "      <td>...</td>\n",
       "      <td>...</td>\n",
       "      <td>...</td>\n",
       "      <td>...</td>\n",
       "      <td>...</td>\n",
       "      <td>...</td>\n",
       "      <td>...</td>\n",
       "      <td>...</td>\n",
       "    </tr>\n",
       "    <tr>\n",
       "      <th>4727227</th>\n",
       "      <td>134</td>\n",
       "      <td>243</td>\n",
       "      <td>23.166667</td>\n",
       "      <td>10.98</td>\n",
       "      <td>-1.96</td>\n",
       "      <td>-5.11</td>\n",
       "      <td>-0.67</td>\n",
       "      <td>345.57</td>\n",
       "      <td>8.82</td>\n",
       "      <td>8.82</td>\n",
       "      <td>8.82</td>\n",
       "      <td>136.49</td>\n",
       "      <td>1152.60</td>\n",
       "      <td>159075.250002</td>\n",
       "    </tr>\n",
       "    <tr>\n",
       "      <th>4727228</th>\n",
       "      <td>134</td>\n",
       "      <td>243</td>\n",
       "      <td>23.333333</td>\n",
       "      <td>11.82</td>\n",
       "      <td>-3.18</td>\n",
       "      <td>-5.46</td>\n",
       "      <td>-0.54</td>\n",
       "      <td>345.57</td>\n",
       "      <td>13.87</td>\n",
       "      <td>13.87</td>\n",
       "      <td>13.87</td>\n",
       "      <td>84.43</td>\n",
       "      <td>681.65</td>\n",
       "      <td>159067.390002</td>\n",
       "    </tr>\n",
       "    <tr>\n",
       "      <th>4727229</th>\n",
       "      <td>134</td>\n",
       "      <td>243</td>\n",
       "      <td>23.500000</td>\n",
       "      <td>11.91</td>\n",
       "      <td>-1.42</td>\n",
       "      <td>-5.21</td>\n",
       "      <td>-0.42</td>\n",
       "      <td>345.57</td>\n",
       "      <td>10.69</td>\n",
       "      <td>10.69</td>\n",
       "      <td>10.69</td>\n",
       "      <td>145.72</td>\n",
       "      <td>1118.35</td>\n",
       "      <td>158948.400002</td>\n",
       "    </tr>\n",
       "    <tr>\n",
       "      <th>4727230</th>\n",
       "      <td>134</td>\n",
       "      <td>243</td>\n",
       "      <td>23.666667</td>\n",
       "      <td>11.86</td>\n",
       "      <td>-0.95</td>\n",
       "      <td>-5.40</td>\n",
       "      <td>-0.38</td>\n",
       "      <td>345.57</td>\n",
       "      <td>13.94</td>\n",
       "      <td>13.94</td>\n",
       "      <td>13.94</td>\n",
       "      <td>89.56</td>\n",
       "      <td>683.49</td>\n",
       "      <td>159365.800002</td>\n",
       "    </tr>\n",
       "    <tr>\n",
       "      <th>4727231</th>\n",
       "      <td>134</td>\n",
       "      <td>243</td>\n",
       "      <td>23.833333</td>\n",
       "      <td>11.72</td>\n",
       "      <td>0.04</td>\n",
       "      <td>-5.23</td>\n",
       "      <td>-0.37</td>\n",
       "      <td>345.57</td>\n",
       "      <td>10.90</td>\n",
       "      <td>10.90</td>\n",
       "      <td>10.90</td>\n",
       "      <td>120.18</td>\n",
       "      <td>1026.93</td>\n",
       "      <td>159520.360002</td>\n",
       "    </tr>\n",
       "  </tbody>\n",
       "</table>\n",
       "<p>4727231 rows × 14 columns</p>\n",
       "</div>"
      ],
      "text/plain": [
       "         TurbID  Day    Tmstamp   Wspd  Wdir   Etmp   Itmp    Ndir   Pab1  \\\n",
       "1             1    1   0.166667   6.17 -3.99  30.73  41.80   25.92   1.00   \n",
       "2             1    1   0.333333   6.27 -2.18  30.60  41.63   20.91   1.00   \n",
       "3             1    1   0.500000   6.42 -0.73  30.52  41.52   20.91   1.00   \n",
       "4             1    1   0.666667   6.25  0.89  30.49  41.38   20.91   1.00   \n",
       "5             1    1   0.833333   6.10 -1.03  30.47  41.22   20.91   1.00   \n",
       "...         ...  ...        ...    ...   ...    ...    ...     ...    ...   \n",
       "4727227     134  243  23.166667  10.98 -1.96  -5.11  -0.67  345.57   8.82   \n",
       "4727228     134  243  23.333333  11.82 -3.18  -5.46  -0.54  345.57  13.87   \n",
       "4727229     134  243  23.500000  11.91 -1.42  -5.21  -0.42  345.57  10.69   \n",
       "4727230     134  243  23.666667  11.86 -0.95  -5.40  -0.38  345.57  13.94   \n",
       "4727231     134  243  23.833333  11.72  0.04  -5.23  -0.37  345.57  10.90   \n",
       "\n",
       "          Pab2   Pab3    Prtv     Patv  Sum_2days_Patv  \n",
       "1         1.00   1.00   -0.25   494.66   198862.920000  \n",
       "2         1.00   1.00   -0.24   509.76   199852.170000  \n",
       "3         1.00   1.00   -0.26   542.53   200853.280000  \n",
       "4         1.00   1.00   -0.23   509.36   201848.150000  \n",
       "5         1.00   1.00   -0.27   482.21   202866.390000  \n",
       "...        ...    ...     ...      ...             ...  \n",
       "4727227   8.82   8.82  136.49  1152.60   159075.250002  \n",
       "4727228  13.87  13.87   84.43   681.65   159067.390002  \n",
       "4727229  10.69  10.69  145.72  1118.35   158948.400002  \n",
       "4727230  13.94  13.94   89.56   683.49   159365.800002  \n",
       "4727231  10.90  10.90  120.18  1026.93   159520.360002  \n",
       "\n",
       "[4727231 rows x 14 columns]"
      ]
     },
     "execution_count": 90,
     "metadata": {},
     "output_type": "execute_result"
    }
   ],
   "source": [
    "df"
   ]
  },
  {
   "cell_type": "code",
   "execution_count": 151,
   "id": "6b47e158",
   "metadata": {},
   "outputs": [
    {
     "data": {
      "text/plain": [
       "[<matplotlib.lines.Line2D at 0x11808866e48>]"
      ]
     },
     "execution_count": 151,
     "metadata": {},
     "output_type": "execute_result"
    },
    {
     "data": {
      "image/png": "[encoded data removed]",
      "text/plain": [
       "<Figure size 432x288 with 1 Axes>"
      ]
     },
     "metadata": {
      "needs_background": "light"
     },
     "output_type": "display_data"
    }
   ],
   "source": [
    "import matplotlib.pyplot as plt\n",
    "x=list(df.iloc[:int(4727231/134),13])\n",
    "y=np.arange(len(x))\n",
    "plt.plot(y,x)"
   ]
  },
  {
   "cell_type": "code",
   "execution_count": 91,
   "id": "eab8daa3",
   "metadata": {},
   "outputs": [
    {
     "data": {
      "text/plain": [
       "array([  1,   2,   3,   4,   5,   6,   7,   8,   9,  10,  11,  12,  13,\n",
       "        14,  15,  16,  17,  18,  19,  20,  21,  22,  23,  24,  25,  26,\n",
       "        27,  28,  29,  30,  31,  32,  33,  34,  35,  36,  37,  38,  39,\n",
       "        40,  41,  42,  43,  44,  45,  46,  47,  48,  49,  50,  51,  52,\n",
       "        53,  54,  55,  56,  57,  58,  59,  60,  61,  62,  63,  64,  65,\n",
       "        66,  67,  68,  69,  70,  71,  72,  73,  74,  75,  76,  77,  78,\n",
       "        79,  80,  81,  82,  83,  84,  85,  86,  87,  88,  89,  90,  91,\n",
       "        92,  93,  94,  95,  96,  97,  98,  99, 100, 101, 102, 103, 104,\n",
       "       105, 106, 107, 108, 109, 110, 111, 112, 113, 114, 115, 116, 117,\n",
       "       118, 119, 120, 121, 122, 123, 124, 125, 126, 127, 128, 129, 130,\n",
       "       131, 132, 133, 134, 135, 136, 137, 138, 139, 140, 141, 142, 143,\n",
       "       144, 145, 146, 147, 148, 149, 150, 151, 152, 153, 154, 155, 156,\n",
       "       157, 158, 159, 160, 161, 162, 163, 164, 165, 166, 167, 168, 169,\n",
       "       170, 171, 172, 173, 174, 175, 176, 177, 178, 179, 180, 181, 182,\n",
       "       183, 184, 185, 186, 187, 188, 189, 190, 191, 192, 193, 194, 195,\n",
       "       196, 197, 198, 199, 200, 201, 202, 203, 204, 205, 206, 207, 208,\n",
       "       209, 210, 211, 212, 213, 214, 215, 216, 217, 218, 219, 220, 221,\n",
       "       222, 223, 224, 225, 226, 227, 228, 229, 230, 231, 232, 233, 234,\n",
       "       235, 236, 237, 238, 239, 240, 241, 242, 243, 244, 245], dtype=int64)"
      ]
     },
     "execution_count": 91,
     "metadata": {},
     "output_type": "execute_result"
    }
   ],
   "source": [
    "df['Day'].unique() #一共245天数 "
   ]
  },
  {
   "cell_type": "code",
   "execution_count": 92,
   "id": "aaa301e7",
   "metadata": {},
   "outputs": [],
   "source": [
    "import lightgbm as lgb\n",
    "\n",
    "# 创建成lgb特征的数据集格式\n",
    "lgb_train = lgb.Dataset(train_X, train_y)\n",
    "lgb_eval = lgb.Dataset(test_X, test_y, reference=lgb_train)"
   ]
  },
  {
   "cell_type": "code",
   "execution_count": 93,
   "id": "348059d0",
   "metadata": {},
   "outputs": [
    {
     "name": "stdout",
     "output_type": "stream",
     "text": [
      "Start training...\n",
      "[LightGBM] [Warning] Auto-choosing col-wise multi-threading, the overhead of testing was 0.099242 seconds.\n",
      "You can set `force_col_wise=true` to remove the overhead.\n",
      "[LightGBM] [Info] Total Bins 3074\n",
      "[LightGBM] [Info] Number of data points in the train set: 3309061, number of used features: 13\n",
      "[LightGBM] [Info] Start training from score 98574.715652\n",
      "[1]\tvalid_0's l2: 4.72949e+09\tvalid_0's auc: 0.738508\n",
      "Training until validation scores don't improve for 5 rounds\n",
      "[2]\tvalid_0's l2: 4.55412e+09\tvalid_0's auc: 0.751476\n",
      "[3]\tvalid_0's l2: 4.37896e+09\tvalid_0's auc: 0.749898\n",
      "[4]\tvalid_0's l2: 4.23358e+09\tvalid_0's auc: 0.754859\n",
      "[5]\tvalid_0's l2: 4.0801e+09\tvalid_0's auc: 0.753272\n",
      "[6]\tvalid_0's l2: 3.92894e+09\tvalid_0's auc: 0.755633\n",
      "[7]\tvalid_0's l2: 3.81475e+09\tvalid_0's auc: 0.777335\n",
      "[8]\tvalid_0's l2: 3.70752e+09\tvalid_0's auc: 0.777812\n",
      "[9]\tvalid_0's l2: 3.59651e+09\tvalid_0's auc: 0.777166\n",
      "[10]\tvalid_0's l2: 3.48157e+09\tvalid_0's auc: 0.773502\n",
      "[11]\tvalid_0's l2: 3.37605e+09\tvalid_0's auc: 0.772539\n",
      "[12]\tvalid_0's l2: 3.30767e+09\tvalid_0's auc: 0.767634\n",
      "[13]\tvalid_0's l2: 3.24377e+09\tvalid_0's auc: 0.767576\n",
      "Early stopping, best iteration is:\n",
      "[8]\tvalid_0's l2: 3.70752e+09\tvalid_0's auc: 0.777812\n"
     ]
    }
   ],
   "source": [
    "# 将参数写成字典下形式\n",
    "params = {\n",
    "    'task': 'train',\n",
    "    'boosting_type': 'gbdt',  # 设置提升类型\n",
    "    'objective': 'regression', # 目标函数\n",
    "    'metric': {'l2', 'auc'},  # 评估函数\n",
    "    'num_leaves': 31,   # 叶子节点数\n",
    "    'learning_rate': 0.05,  # 学习速率\n",
    "    'feature_fraction': 0.9, # 建树的特征选择比例\n",
    "    'bagging_fraction': 0.8, # 建树的样本采样比例\n",
    "    'bagging_freq': 5,  # k 意味着每 k 次迭代执行bagging\n",
    "    'verbose': 1 # <0 显示致命的, =0 显示错误 (警告), >0 显示信息\n",
    "}\n",
    "\n",
    "print('Start training...')\n",
    "# 训练 cv and train\n",
    "gbm = lgb.train(params,lgb_train,num_boost_round=20,valid_sets=lgb_eval,early_stopping_rounds=5)\n"
   ]
  },
  {
   "cell_type": "code",
   "execution_count": 97,
   "id": "d864cfd5",
   "metadata": {},
   "outputs": [
    {
     "data": {
      "text/plain": [
       "368797    -0.396325\n",
       "3885432    0.575354\n",
       "1136982   -0.577361\n",
       "2243701    1.672583\n",
       "788650    -0.451062\n",
       "             ...   \n",
       "601765     1.332846\n",
       "2743718    0.525136\n",
       "1571321   -0.096510\n",
       "733381     1.972341\n",
       "1139964    0.330156\n",
       "Name: Sum_2days_Patv, Length: 1418170, dtype: float64"
      ]
     },
     "execution_count": 97,
     "metadata": {},
     "output_type": "execute_result"
    }
   ],
   "source": [
    "#查看相对误差\n",
    "(gbm.predict(test_X, num_iteration=gbm.best_iteration)-test_y)/test_y"
   ]
  },
  {
   "cell_type": "code",
   "execution_count": 119,
   "id": "50b55d76",
   "metadata": {},
   "outputs": [
    {
     "data": {
      "text/plain": [
       "0         -0.396325\n",
       "1          0.575354\n",
       "2         -0.577361\n",
       "3          1.672583\n",
       "4         -0.451062\n",
       "             ...   \n",
       "1389336    1.332846\n",
       "1389337    0.525136\n",
       "1389338   -0.096510\n",
       "1389339    1.972341\n",
       "1389340    0.330156\n",
       "Name: Sum_2days_Patv, Length: 1389341, dtype: float64"
      ]
     },
     "execution_count": 119,
     "metadata": {},
     "output_type": "execute_result"
    }
   ],
   "source": [
    "a.reset_index(drop=True)"
   ]
  },
  {
   "cell_type": "code",
   "execution_count": 133,
   "id": "7dd0157b",
   "metadata": {},
   "outputs": [
    {
     "data": {
      "text/plain": [
       "0         -0.396325\n",
       "1          0.575354\n",
       "2         -0.577361\n",
       "3          1.672583\n",
       "4         -0.451062\n",
       "             ...   \n",
       "1389336    1.332846\n",
       "1389337    0.525136\n",
       "1389338   -0.096510\n",
       "1389339    1.972341\n",
       "1389340    0.330156\n",
       "Name: Sum_2days_Patv, Length: 1389341, dtype: float64"
      ]
     },
     "execution_count": 133,
     "metadata": {},
     "output_type": "execute_result"
    }
   ],
   "source": [
    "a=((gbm.predict(test_X, num_iteration=gbm.best_iteration)-test_y)/test_y).dropna(how='all')\n",
    "a=a.reset_index(drop=True)\n",
    "a"
   ]
  },
  {
   "cell_type": "markdown",
   "id": "30c1cb5f",
   "metadata": {},
   "source": [
    "$∑_i Patv_i$"
   ]
  }
 ],
 "metadata": {
  "kernelspec": {
   "display_name": "Python [conda env:pytorch]",
   "language": "python",
   "name": "conda-env-pytorch-py"
  },
  "language_info": {
   "codemirror_mode": {
    "name": "ipython",
    "version": 3
   },
   "file_extension": ".py",
   "mimetype": "text/x-python",
   "name": "python",
   "nbconvert_exporter": "python",
   "pygments_lexer": "ipython3",
   "version": "3.7.10"
  }
 },
 "nbformat": 4,
 "nbformat_minor": 5
}
